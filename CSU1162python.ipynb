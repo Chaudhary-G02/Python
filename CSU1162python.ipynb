{
 "cells": [
  {
   "metadata": {
    "ExecuteTime": {
     "end_time": "2025-08-10T12:57:02.626505Z",
     "start_time": "2025-08-10T12:57:02.622455Z"
    }
   },
   "cell_type": "code",
   "source": "print(\"hello\") #this is single line comment",
   "id": "31865f99f36fd9fc",
   "outputs": [
    {
     "name": "stdout",
     "output_type": "stream",
     "text": [
      "hello\n"
     ]
    }
   ],
   "execution_count": 5
  },
  {
   "cell_type": "code",
   "id": "initial_id",
   "metadata": {
    "collapsed": true,
    "ExecuteTime": {
     "end_time": "2025-08-10T13:02:33.843606Z",
     "start_time": "2025-08-10T13:02:24.073796Z"
    }
   },
   "source": [
    "print(\"Hello\")\n",
    "name = input(\"Enter your name:\")\n",
    "print(\"Hi! \" + name +\"How are you?\")"
   ],
   "outputs": [
    {
     "name": "stdout",
     "output_type": "stream",
     "text": [
      "Hello\n",
      "Hi! Krish Chaudhary\n",
      "How are you?\n"
     ]
    }
   ],
   "execution_count": 11
  },
  {
   "metadata": {
    "ExecuteTime": {
     "end_time": "2025-08-10T13:05:13.560572Z",
     "start_time": "2025-08-10T13:04:56.146071Z"
    }
   },
   "cell_type": "code",
   "source": [
    "n1=int(input(\"Enter the first number:\"))\n",
    "n2=int(input(\"Enter the second number:\"))\n",
    "num = n1+n2\n",
    "print(\"Sum of the two numbers:\",str(num))"
   ],
   "id": "b5087f7ac58339d5",
   "outputs": [
    {
     "name": "stdout",
     "output_type": "stream",
     "text": [
      "Sum of the two numbers: 6\n"
     ]
    }
   ],
   "execution_count": 12
  },
  {
   "metadata": {
    "ExecuteTime": {
     "end_time": "2025-08-13T08:32:42.521678Z",
     "start_time": "2025-08-13T08:32:31.044558Z"
    }
   },
   "cell_type": "code",
   "source": [
    "a = float(input(\"Enter the length of rectangle:\"))\n",
    "b = float(input(\"ENter the width of rectangle:\"))\n",
    "c = a*b\n",
    "print(\"Area of the rectangle:\",c)"
   ],
   "id": "2a829ae85f943840",
   "outputs": [
    {
     "name": "stdout",
     "output_type": "stream",
     "text": [
      "Area of the rectangle: 15.0\n"
     ]
    }
   ],
   "execution_count": 1
  },
  {
   "metadata": {
    "ExecuteTime": {
     "end_time": "2025-08-13T08:45:06.803526Z",
     "start_time": "2025-08-13T08:44:58.662040Z"
    }
   },
   "cell_type": "code",
   "source": [
    "user = input(\"Enter your name:\")\n",
    "marks = int(input(\"Enter your marks:\"))\n",
    "if marks >=60:\n",
    "    print(\"Congratulations!,You are eligible to take admission in this college.\")\n",
    "else:\n",
    "    print(\"Sorry!,You are not eligible to take admission in this college.\")"
   ],
   "id": "9513da6ea311f782",
   "outputs": [
    {
     "name": "stdout",
     "output_type": "stream",
     "text": [
      "Sorry!,You are not eligible to take admission in this college.\n"
     ]
    }
   ],
   "execution_count": 13
  },
  {
   "metadata": {
    "ExecuteTime": {
     "end_time": "2025-08-13T08:45:33.846342Z",
     "start_time": "2025-08-13T08:45:27.513307Z"
    }
   },
   "cell_type": "code",
   "source": [
    "temprature = float(input(\"Enter temprature in Celcius:\" ))\n",
    "F = (temprature *9/5 ) + 32\n",
    "print(\"celcius is equal to farenheit:\" ,F)"
   ],
   "id": "faf5b71b6ac01ee2",
   "outputs": [
    {
     "name": "stdout",
     "output_type": "stream",
     "text": [
      "celcius is equal to farenheit: 89.6\n"
     ]
    }
   ],
   "execution_count": 14
  },
  {
   "metadata": {
    "ExecuteTime": {
     "end_time": "2025-08-13T08:46:18.819378Z",
     "start_time": "2025-08-13T08:46:06.155560Z"
    }
   },
   "cell_type": "code",
   "source": [
    "user = input(\"Enter your name :\")\n",
    "age = int(input(\"Enter your age: \"))\n",
    "if age <18 :\n",
    "    print(\"you are not eligible to vote.\")\n",
    "else: age <=18\n",
    "print(\"you are eligible to vote.\")"
   ],
   "id": "8f408aa9b92b9f10",
   "outputs": [
    {
     "name": "stdout",
     "output_type": "stream",
     "text": [
      "you are eligible to vote.\n"
     ]
    }
   ],
   "execution_count": 15
  },
  {
   "metadata": {
    "ExecuteTime": {
     "end_time": "2025-09-10T15:08:49.651324Z",
     "start_time": "2025-09-10T15:08:43.500947Z"
    }
   },
   "cell_type": "code",
   "source": [
    "#Practical 2: Write a python program that accepts three length of a triangle as inputs. The program output should indicate whether the triangle is a right triangle.\n",
    "\n",
    "a = float(input(\"Enter the length of the first side: \"))\n",
    "b = float(input(\"Enter the length of the second side: \"))\n",
    "c = float(input(\"Enter the length of the third side: \"))\n",
    "\n",
    "if a > b and a > c:\n",
    "    hypot = a\n",
    "    side1 = b\n",
    "    side2 = c\n",
    "elif b > a and b > c:\n",
    "    hypot = b\n",
    "    side1 = a\n",
    "    side2 = c\n",
    "else:\n",
    "    hypot = c\n",
    "    side1 = a\n",
    "    side2 = b\n",
    "\n",
    "if hypot**2 == side1**2 + side2**2:\n",
    "    print(\"Yes, this is a right angle triangle.\")\n",
    "else:\n",
    "    print(\"No, this is not a right angle triangle.\")"
   ],
   "id": "26bec43d5dee2179",
   "outputs": [
    {
     "name": "stdout",
     "output_type": "stream",
     "text": [
      "Yes, this is a right angle triangle.\n"
     ]
    }
   ],
   "execution_count": 9
  },
  {
   "metadata": {
    "ExecuteTime": {
     "end_time": "2025-08-28T05:06:53.818023Z",
     "start_time": "2025-08-28T05:06:53.813510Z"
    }
   },
   "cell_type": "code",
   "source": [
    "#Practical 1: write a python program to demonstrate different number of data types in python.\n",
    "\n",
    "# Integer\n",
    "my_int = 100\n",
    "print(\"Integer:\", my_int,\"| Type:\", type(my_int))\n",
    "\n",
    "# Float\n",
    "my_float = 4.5\n",
    "print(\"Float:\", my_float,\" | Type:\", type(my_float))\n",
    "\n",
    "# Complex\n",
    "complex_num = 5 + 8j\n",
    "print(\"Complex:\", complex_num, \"| Type:\", type(complex_num))\n",
    "\n",
    "# Boolean\n",
    "bnum = True\n",
    "print(\"Boolean:\", bnum, \"| Type:\", type(bnum))\n",
    "\n",
    "# String\n",
    "my_string = \"Hello world!\"\n",
    "print(\"String:\", my_string,\"| Type:\", type(my_string))\n",
    "\n",
    "# Dictionary\n",
    "dict_value = {\"Name\": \"Krish\", \"Age\": \"18\"}\n",
    "print(\"Dict Value:\",dict_value ,\"| Type:\", type(dict_value))\n",
    "\n",
    "# Set\n",
    "set_value = {1,2,3,4,5}\n",
    "print(\"Set Value:\",set_value ,\"| Type:\", type(set_value))\n",
    "\n",
    "# Tuple\n",
    "tuple_value = (1,2,3,\"string\")\n",
    "print(\"Tuple Value:\",tuple_value ,\"| Type:\", type(tuple_value))\n",
    "\n",
    "# List\n",
    "my_list = [1,2,3,4,5,\"string\",\"hello\"]\n",
    "print(\"List Value:\",my_list ,\"| Type:\", type(my_list))"
   ],
   "id": "4141013ef8a99724",
   "outputs": [
    {
     "name": "stdout",
     "output_type": "stream",
     "text": [
      "Integer: 100 | Type: <class 'int'>\n",
      "Float: 4.5  | Type: <class 'float'>\n",
      "Complex: (5+8j) | Type: <class 'complex'>\n",
      "Boolean: True | Type: <class 'bool'>\n",
      "String: Hello world! | Type: <class 'str'>\n",
      "Dict Value: {'Name': 'Krish', 'Age': '18'} | Type: <class 'dict'>\n",
      "Set Value: {1, 2, 3, 4, 5} | Type: <class 'set'>\n",
      "Tuple Value: (1, 2, 3, 'string') | Type: <class 'tuple'>\n",
      "List Value: [1, 2, 3, 4, 5, 'string', 'hello'] | Type: <class 'list'>\n"
     ]
    }
   ],
   "execution_count": 4
  },
  {
   "metadata": {
    "ExecuteTime": {
     "end_time": "2025-08-27T09:53:41.755283Z",
     "start_time": "2025-08-27T09:53:29.803513Z"
    }
   },
   "cell_type": "code",
   "source": [
    "#Write a Python program to get 4 numbers from the user, subtract the first two, add the second two numbers, then find the multiplication of both results.\n",
    "\n",
    "num1 = float(input(\"Enter the first number: \"))\n",
    "num2 = float(input(\"Enter the second number: \"))\n",
    "num3 = float(input(\"Enter the third number: \"))\n",
    "num4 = float(input(\"Enter the fourth number: \"))\n",
    "\n",
    "result1 = num1 - num2\n",
    "result2 = num3 + num4\n",
    "final_result = result1 * result2\n",
    "\n",
    "print(\"The final result is:\", final_result)"
   ],
   "id": "806bf53cf5c5d30d",
   "outputs": [
    {
     "name": "stdout",
     "output_type": "stream",
     "text": [
      "The final result is: -11.0\n"
     ]
    }
   ],
   "execution_count": 7
  },
  {
   "metadata": {
    "ExecuteTime": {
     "end_time": "2025-08-28T04:55:08.072435Z",
     "start_time": "2025-08-28T04:54:55.066810Z"
    }
   },
   "cell_type": "code",
   "source": [
    "#Write a Python program to check a valid username and password.\n",
    "\n",
    "correct_username = \"admin404\"\n",
    "correct_password = \"password912\"\n",
    "\n",
    "username = input(\"Enter username: \")\n",
    "password = input(\"Enter password: \")\n",
    "\n",
    "if username == correct_username and password == correct_password:\n",
    "    print(\"Login successful! Welcome!\")\n",
    "else:\n",
    "    print(\"Invalid username or password. Access denied.\")"
   ],
   "id": "817f166aca7b7cab",
   "outputs": [
    {
     "name": "stdout",
     "output_type": "stream",
     "text": [
      "Invalid username or password. Access denied.\n"
     ]
    }
   ],
   "execution_count": 1
  },
  {
   "metadata": {
    "ExecuteTime": {
     "end_time": "2025-08-28T05:21:12.848455Z",
     "start_time": "2025-08-28T05:21:02.300600Z"
    }
   },
   "cell_type": "code",
   "source": [
    "#Write a Python program to perform left and right shift bitwise operations.\n",
    "\n",
    "num = int(input(\"Enter a number: \"))\n",
    "shift = int(input(\"Enter how many positions to shift: \"))\n",
    "\n",
    "print(\"Left Shift:\", num << shift)\n",
    "\n",
    "print(\"Right Shift:\", num >> shift)"
   ],
   "id": "3fc37e1739922731",
   "outputs": [
    {
     "name": "stdout",
     "output_type": "stream",
     "text": [
      "Left Shift: 896\n",
      "Right Shift: 3\n"
     ]
    }
   ],
   "execution_count": 12
  },
  {
   "metadata": {
    "ExecuteTime": {
     "end_time": "2025-08-28T05:16:44.863128Z",
     "start_time": "2025-08-28T05:16:37.755511Z"
    }
   },
   "cell_type": "code",
   "source": [
    "#Write a Python program to ask the user for two numbers and show their binary form and all bitwise results.\n",
    "\n",
    "a = int(input(\"Enter first number: \"))\n",
    "b = int(input(\"Enter second number: \"))\n",
    "\n",
    "print(\"a in binary:\", bin(a))\n",
    "print(\"b in binary:\", bin(b))\n",
    "\n",
    "print(\"a & b =\", a & b)\n",
    "print(\"a | b =\", a | b)\n",
    "print(\"a ^ b =\", a ^ b)\n",
    "print(\"~a =\", ~a)\n",
    "print(\"~b =\", ~b)\n",
    "\n",
    "print(\"a << 1 =\", a << 1)\n",
    "print(\"a >> 1 =\", a >> 1)\n",
    "print(\"b << 1 =\", b << 1)\n",
    "print(\"b >> 1 =\", b >> 1)"
   ],
   "id": "94d4a67581f17921",
   "outputs": [
    {
     "name": "stdout",
     "output_type": "stream",
     "text": [
      "a in binary: 0b101\n",
      "b in binary: 0b111\n",
      "a & b = 5\n",
      "a | b = 7\n",
      "a ^ b = 2\n",
      "~a = -6\n",
      "~b = -8\n",
      "a << 1 = 10\n",
      "a >> 1 = 2\n",
      "b << 1 = 14\n",
      "b >> 1 = 3\n"
     ]
    }
   ],
   "execution_count": 9
  },
  {
   "metadata": {
    "ExecuteTime": {
     "end_time": "2025-08-29T05:43:27.074479Z",
     "start_time": "2025-08-29T05:43:20.137775Z"
    }
   },
   "cell_type": "code",
   "source": [
    " #Write a Python program to extract and display the hundreds, tens, and ones digits of a given three-digit number.\n",
    "\n",
    "num = int(input(\"Enter a 3-digit number: \"))\n",
    "\n",
    "hundreds = num // 100\n",
    "tens = (num // 10) % 10\n",
    "ones = num % 10\n",
    "\n",
    "print(\"\\nDigits in the number:\")\n",
    "print(f\"Hundreds place: {hundreds}\")\n",
    "print(f\"Tens place: {tens}\")\n",
    "print(f\"Ones place: {ones}\")"
   ],
   "id": "94ff10c2f42e7ec4",
   "outputs": [
    {
     "name": "stdout",
     "output_type": "stream",
     "text": [
      "\n",
      "Digits in the number:\n",
      "Hundreds place: 9\n",
      "Tens place: 1\n",
      "Ones place: 2\n"
     ]
    }
   ],
   "execution_count": 13
  },
  {
   "metadata": {
    "ExecuteTime": {
     "end_time": "2025-08-28T05:15:22.166958Z",
     "start_time": "2025-08-28T05:15:18.591179Z"
    }
   },
   "cell_type": "code",
   "source": [
    "#Write a Python program to find the occurrence of a specific color from a list.\n",
    "\n",
    "colors = [\"red\", \"blue\", \"green\", \"red\", \"yellow\", \"blue\", \"red\"]\n",
    "\n",
    "c = input(\"Enter color: \")\n",
    "\n",
    "if c in colors:\n",
    "    print(\"color found.\")\n",
    "else:\n",
    "    print(\"color not found.\")"
   ],
   "id": "1f256c1c5dc961fa",
   "outputs": [
    {
     "name": "stdout",
     "output_type": "stream",
     "text": [
      "color found.\n"
     ]
    }
   ],
   "execution_count": 8
  },
  {
   "metadata": {
    "ExecuteTime": {
     "end_time": "2025-09-09T06:47:10.098958Z",
     "start_time": "2025-09-09T06:47:06.070422Z"
    }
   },
   "cell_type": "code",
   "source": [
    "#Write a Python program to get a number from user and display message \"number is even\", if number is even.\n",
    "\n",
    "a = int(input(\"Enter a number: \"))\n",
    "if a%2 ==0:\n",
    "    print(\"Number is even.\")\n",
    "else:\n",
    "    print(\"Number is odd.\")"
   ],
   "id": "3e99c3eed31f28cf",
   "outputs": [
    {
     "name": "stdout",
     "output_type": "stream",
     "text": [
      "Number is even.\n"
     ]
    }
   ],
   "execution_count": 2
  },
  {
   "metadata": {
    "ExecuteTime": {
     "end_time": "2025-09-09T06:49:47.398051Z",
     "start_time": "2025-09-09T06:49:44.953871Z"
    }
   },
   "cell_type": "code",
   "source": [
    "#Write a Python program to check if the number is positive, negative, or zero.\n",
    "\n",
    "a = int(input(\"Enter a number: \"))\n",
    "if a == 0:\n",
    "    print(\"Number is zero.\")\n",
    "elif a <0:\n",
    "    print(\"Number is negative.\")\n",
    "else:\n",
    "    print(\"Number is positive.\")"
   ],
   "id": "3c3cd25492861fa8",
   "outputs": [
    {
     "name": "stdout",
     "output_type": "stream",
     "text": [
      "Number is zero.\n"
     ]
    }
   ],
   "execution_count": 5
  },
  {
   "metadata": {
    "ExecuteTime": {
     "end_time": "2025-09-09T06:53:05.007900Z",
     "start_time": "2025-09-09T06:52:55.564250Z"
    }
   },
   "cell_type": "code",
   "source": [
    "#Write a Python program to find the largest element among three numbers.\n",
    "\n",
    "a = int(input(\"Enter first number: \"))\n",
    "b = int(input(\"Enter second number: \"))\n",
    "c = int(input(\"Enter third number: \"))\n",
    "\n",
    "if a>=b and a>=c:\n",
    "    largest = a\n",
    "elif b>=a and b>=c:\n",
    "    largest = b\n",
    "else:\n",
    "    largest = c\n",
    "    print('The largest number is:', largest)"
   ],
   "id": "8351d89eca43d236",
   "outputs": [
    {
     "name": "stdout",
     "output_type": "stream",
     "text": [
      "The largest number is: 98\n"
     ]
    }
   ],
   "execution_count": 7
  },
  {
   "metadata": {
    "ExecuteTime": {
     "end_time": "2025-09-09T07:11:29.767051Z",
     "start_time": "2025-09-09T07:11:24.065218Z"
    }
   },
   "cell_type": "code",
   "source": [
    "#Write a Python program to get a name from the user and display it. The name should contain 5 characters or fewer than 10, and the name should start with the \"a\" character.\n",
    "\n",
    "name = input(\"Enter your name: \")\n",
    "if len (name)<=5:\n",
    "    print(\"Your name is too short.\")\n",
    "elif len (name)>10:\n",
    "    print(\"Your name is too long.\")\n",
    "if name[0] == \"a\":\n",
    "    print(\"Name starts with a.\")\n",
    "    print(name)"
   ],
   "id": "7b3ce10145c3087",
   "outputs": [
    {
     "name": "stdout",
     "output_type": "stream",
     "text": [
      "Your name is too short.\n",
      "Name starts with a.\n",
      "ayush\n"
     ]
    }
   ],
   "execution_count": 17
  },
  {
   "metadata": {
    "ExecuteTime": {
     "end_time": "2025-09-10T09:19:16.655969Z",
     "start_time": "2025-09-10T09:19:16.650141Z"
    }
   },
   "cell_type": "code",
   "source": [
    "#Write a Python program to get age and marks from user. The system should 15t select that user which have greater than or equal to 18 year of age and 2nd marks should be greater than 80 and less than 100.\n",
    "\n"
   ],
   "id": "893f13113485ac37",
   "outputs": [],
   "execution_count": 18
  },
  {
   "metadata": {
    "ExecuteTime": {
     "end_time": "2025-09-10T15:50:21.373211Z",
     "start_time": "2025-09-10T15:50:16.664712Z"
    }
   },
   "cell_type": "code",
   "source": [
    "#Write a Python program to get a number from user to check, it is divisible by 2 and 3.\n",
    "\n",
    "num = int(input(\"Enter a number: \"))\n",
    "if num % 2 == 0 and num % 3 == 0:\n",
    "    print(\"The number is divisible by both 2 and 3.\")\n",
    "else:\n",
    "    print(\"The number is not divisible by both 2 and 3.\")"
   ],
   "id": "559c9bb054bf337f",
   "outputs": [
    {
     "name": "stdout",
     "output_type": "stream",
     "text": [
      "The number is not divisible by both 2 and 3.\n"
     ]
    }
   ],
   "execution_count": 25
  },
  {
   "metadata": {
    "ExecuteTime": {
     "end_time": "2025-09-10T15:50:28.326626Z",
     "start_time": "2025-09-10T15:50:24.996414Z"
    }
   },
   "cell_type": "code",
   "source": [
    "#Write a Python program to check a year, whether it is a leap year or not.\n",
    "\n",
    "year = int(input(\"Enter a year: \"))\n",
    "if year > 0:\n",
    "    if (year % 4 == 0 and year % 100 != 0) or (year % 400 == 0):\n",
    "        print(\"The year is a leap year.\")\n",
    "    else:\n",
    "        print(\"The year is not a leap year.\")\n",
    "else:\n",
    "    print(\"Invalid input. Please enter a positive year.\")"
   ],
   "id": "d756704401e675e3",
   "outputs": [
    {
     "name": "stdout",
     "output_type": "stream",
     "text": [
      "The year is a leap year.\n"
     ]
    }
   ],
   "execution_count": 26
  },
  {
   "metadata": {
    "ExecuteTime": {
     "end_time": "2025-09-10T15:35:11.176817Z",
     "start_time": "2025-09-10T15:31:23.307291Z"
    }
   },
   "cell_type": "code",
   "source": [
    "#Practical 3: Write a Python program that helps students manage their marks, attendance, and rewards by calculating results and checking eligibility for extra benefits.\n",
    "\n",
    "s_name = input(\"Please enter your name: \")\n",
    "s_attendance = int(input(\"Please enter your total attendance out of 100: \"))\n",
    "s_marks = int(input(\"Please enter your total marks out of 100: \"))\n",
    "clubs = [\"hackfire\", \"dance\", \"music\", \"fashion\", \"poetry\"]\n",
    "s_club = str.lower(input(\"Are you in any of these clubs: Hackfire | Dance | Music | Fashion | Poetry? If so, please enter the name of your club: \"))\n",
    "\n",
    "if s_club in clubs:\n",
    "    result = (s_attendance*0.15) + (s_marks*0.7) + 15\n",
    "else:\n",
    "    result = (s_attendance*0.15) + (s_marks*0.7)\n",
    "\n",
    "print(\"Your result: \", result)"
   ],
   "id": "35043dcc6e7e6052",
   "outputs": [
    {
     "name": "stdout",
     "output_type": "stream",
     "text": [
      "Your result:  90.0\n"
     ]
    }
   ],
   "execution_count": 14
  },
  {
   "metadata": {
    "ExecuteTime": {
     "end_time": "2025-09-10T09:47:07.982834Z",
     "start_time": "2025-09-10T09:47:07.974592Z"
    }
   },
   "cell_type": "code",
   "source": [
    "#Write a python program to generate number from 100 to 1 only odd number.\n",
    "\n",
    "i = 100\n",
    "while i >0:\n",
    "    if i%2 != 0:\n",
    "        print(i)\n",
    "    i -= 1\n"
   ],
   "id": "2460007c818cbf87",
   "outputs": [
    {
     "name": "stdout",
     "output_type": "stream",
     "text": [
      "99\n",
      "97\n",
      "95\n",
      "93\n",
      "91\n",
      "89\n",
      "87\n",
      "85\n",
      "83\n",
      "81\n",
      "79\n",
      "77\n",
      "75\n",
      "73\n",
      "71\n",
      "69\n",
      "67\n",
      "65\n",
      "63\n",
      "61\n",
      "59\n",
      "57\n",
      "55\n",
      "53\n",
      "51\n",
      "49\n",
      "47\n",
      "45\n",
      "43\n",
      "41\n",
      "39\n",
      "37\n",
      "35\n",
      "33\n",
      "31\n",
      "29\n",
      "27\n",
      "25\n",
      "23\n",
      "21\n",
      "19\n",
      "17\n",
      "15\n",
      "13\n",
      "11\n",
      "9\n",
      "7\n",
      "5\n",
      "3\n",
      "1\n"
     ]
    }
   ],
   "execution_count": 29
  },
  {
   "metadata": {
    "ExecuteTime": {
     "end_time": "2025-09-10T15:39:17.121527Z",
     "start_time": "2025-09-10T15:39:17.116102Z"
    }
   },
   "cell_type": "code",
   "source": [
    "#Write a python program to generate number from 10 to 50 and add all the generated number. Solve this using while loop.\n",
    "\n",
    "number = 10\n",
    "total_sum = 0\n",
    "while number <= 50:\n",
    "    total_sum += number\n",
    "    number += 1\n",
    "print(f\"The sum of all numbers from 10 to 50 is: {total_sum}\")\n"
   ],
   "id": "5db1477dfc7c5ca7",
   "outputs": [
    {
     "name": "stdout",
     "output_type": "stream",
     "text": [
      "The sum of all numbers from 10 to 50 is: 1230\n"
     ]
    }
   ],
   "execution_count": 15
  },
  {
   "metadata": {
    "ExecuteTime": {
     "end_time": "2025-09-20T16:28:43.923955Z",
     "start_time": "2025-09-20T16:28:37.746732Z"
    }
   },
   "cell_type": "code",
   "source": [
    "#Get starting and ending number from user to generate a sequence of number. You should check at first, starting number should be less than ending number.\n",
    "\n",
    "start = int(input(\"Enter starting number: \"))\n",
    "end = int(input(\"Enter ending number: \"))\n",
    "if start >= end:\n",
    "    print(\"Starting number should be less than ending number.\")\n",
    "else:\n",
    "    num = start\n",
    "    while num <= end:\n",
    "        print(num)\n",
    "        num += 1"
   ],
   "id": "79611c3f7a7fd24d",
   "outputs": [
    {
     "name": "stdout",
     "output_type": "stream",
     "text": [
      "5\n",
      "6\n",
      "7\n",
      "8\n",
      "9\n",
      "10\n"
     ]
    }
   ],
   "execution_count": 34
  },
  {
   "metadata": {
    "ExecuteTime": {
     "end_time": "2025-09-10T15:45:41.209922Z",
     "start_time": "2025-09-10T15:45:35.715743Z"
    }
   },
   "cell_type": "code",
   "source": [
    "#Prompt the user to enter a number. Use a while loop to print the multiplication table of the entered number from 1 to 10.\n",
    "\n",
    "num = int(input(\"Enter a number: \"))\n",
    "i = 1\n",
    "while i <= 10:\n",
    "    product = num * i\n",
    "    print(f\"{num} * {i} = {product}\")\n",
    "    i += 1\n"
   ],
   "id": "b4111dae2e02cc8",
   "outputs": [
    {
     "name": "stdout",
     "output_type": "stream",
     "text": [
      "90 * 1 = 90\n",
      "90 * 2 = 180\n",
      "90 * 3 = 270\n",
      "90 * 4 = 360\n",
      "90 * 5 = 450\n",
      "90 * 6 = 540\n",
      "90 * 7 = 630\n",
      "90 * 8 = 720\n",
      "90 * 9 = 810\n",
      "90 * 10 = 900\n"
     ]
    }
   ],
   "execution_count": 21
  },
  {
   "metadata": {
    "ExecuteTime": {
     "end_time": "2025-09-25T04:50:05.919935Z",
     "start_time": "2025-09-25T04:50:00.889691Z"
    }
   },
   "cell_type": "code",
   "source": [
    "#Practical 4: Write a Python program to check given number is a prime number or not.\n",
    "\n",
    "#Note:\n",
    "#Use while loop and if else structure only\n",
    "#Show all the factors of the number that are not prime\n",
    "\n",
    "num = int(input(\"Enter the number to be checked: \"))\n",
    "\n",
    "counter = 2\n",
    "count = 0\n",
    "while counter < num:\n",
    "    if num % counter == 0:\n",
    "        count += 1\n",
    "        print(f\"{num} is divisible by {counter}\")\n",
    "    counter += 1\n",
    "if num > 1:\n",
    "    if count > 0:\n",
    "        print(f\"{num} is NOT a Prime Number.\")\n",
    "    else:\n",
    "        print(f\"{num} is a Prime Number.\")\n",
    "else:\n",
    "    print(f\"{num} is not a Prime Number.\")"
   ],
   "id": "de0ee959e6eedf37",
   "outputs": [
    {
     "name": "stdout",
     "output_type": "stream",
     "text": [
      "98 is divisible by 2\n",
      "98 is divisible by 7\n",
      "98 is divisible by 14\n",
      "98 is divisible by 49\n",
      "98 is NOT a Prime Number.\n"
     ]
    }
   ],
   "execution_count": 58
  },
  {
   "metadata": {
    "ExecuteTime": {
     "end_time": "2025-09-25T04:44:52.804818Z",
     "start_time": "2025-09-25T04:44:52.800571Z"
    }
   },
   "cell_type": "code",
   "source": [
    "numbers = [1, 2, 3, 4, 5, 6, 7, 8, 9, 10]\n",
    "\n",
    "# printing numbers until <= 5\n",
    "\n",
    "for number in numbers:\n",
    "    print(number)\n",
    "    if number > 4:\n",
    "        break\n",
    "else:\n",
    "    print(\"No numbers left to print.\")"
   ],
   "id": "ee6964f5ae890f41",
   "outputs": [
    {
     "name": "stdout",
     "output_type": "stream",
     "text": [
      "1\n",
      "2\n",
      "3\n",
      "4\n",
      "5\n"
     ]
    }
   ],
   "execution_count": 54
  },
  {
   "metadata": {
    "ExecuteTime": {
     "end_time": "2025-09-20T16:37:38.416337Z",
     "start_time": "2025-09-20T16:37:38.411915Z"
    }
   },
   "cell_type": "code",
   "source": [
    "lst = [\"CSE\", \"AI\", \"DS\", \"CS\", \"CC\"]\n",
    "for element in lst:\n",
    "    print(element)\n",
    "\n",
    "print(\"-------------------------\")\n",
    "\n",
    "print(\"Using range: \")\n",
    "for i in range(len(lst)):\n",
    "    print(lst[i])"
   ],
   "id": "df3a64778baad93",
   "outputs": [
    {
     "name": "stdout",
     "output_type": "stream",
     "text": [
      "CSE\n",
      "AI\n",
      "DS\n",
      "CS\n",
      "CC\n",
      "-------------------------\n",
      "Using range: \n",
      "CSE\n",
      "AI\n",
      "DS\n",
      "CS\n",
      "CC\n"
     ]
    }
   ],
   "execution_count": 38
  },
  {
   "metadata": {
    "ExecuteTime": {
     "end_time": "2025-09-20T16:38:14.557511Z",
     "start_time": "2025-09-20T16:38:14.549057Z"
    }
   },
   "cell_type": "code",
   "source": [
    "for i in range(5):\n",
    "    print(i)\n",
    "print(\"---------------------------\")\n",
    "\n",
    "for i in range(1,5):\n",
    "    print(i)\n",
    "print(\"---------------------------\")\n",
    "\n",
    "for i in range(1,10,2):\n",
    "    print(i)\n",
    "print(\"---------------------------\")"
   ],
   "id": "8a1c6d23f3ffb639",
   "outputs": [
    {
     "name": "stdout",
     "output_type": "stream",
     "text": [
      "0\n",
      "1\n",
      "2\n",
      "3\n",
      "4\n",
      "---------------------------\n",
      "1\n",
      "2\n",
      "3\n",
      "4\n",
      "---------------------------\n",
      "1\n",
      "3\n",
      "5\n",
      "7\n",
      "9\n",
      "---------------------------\n"
     ]
    }
   ],
   "execution_count": 39
  },
  {
   "metadata": {
    "ExecuteTime": {
     "end_time": "2025-09-17T09:54:35.656428Z",
     "start_time": "2025-09-17T09:54:35.652676Z"
    }
   },
   "cell_type": "code",
   "outputs": [
    {
     "name": "stdout",
     "output_type": "stream",
     "text": [
      "odd numbers from 50 to 1:\n",
      "49 47 45 43 41 39 37 35 33 31 29 27 25 23 21 19 17 15 13 11 9 7 5 3 1 \n",
      "Total sum: 625\n"
     ]
    }
   ],
   "execution_count": 31,
   "source": [
    "#Write a python program to generate number from 50 to 1, only odd numbers and find their sum.\n",
    "\n",
    "totalsum = 0\n",
    "print(\"odd numbers from 50 to 1:\")\n",
    "for num in range(49, 0, -2):\n",
    "    print(num, end=\" \")\n",
    "    totalsum += num\n",
    "\n",
    "print(\"\\nTotal sum:\", totalsum)"
   ],
   "id": "fb6c9d57bdd0bcd7"
  },
  {
   "metadata": {
    "ExecuteTime": {
     "end_time": "2025-09-20T16:32:56.346427Z",
     "start_time": "2025-09-20T16:32:45.228926Z"
    }
   },
   "cell_type": "code",
   "source": [
    "#Write a Python program to display all prime numbers within an interval.\n",
    "\n",
    "startN = int(input(\"Please enter the starting number: \"))\n",
    "endN = int(input(\"Please enter the ending number: \"))\n",
    "\n",
    "if startN > endN or startN == endN:\n",
    "    print(\"The range is invalid.\")\n",
    "\n",
    "if startN < 2:\n",
    "    for i in range(2, endN+1):\n",
    "        for j in range(2, i):\n",
    "            if i % j == 0:\n",
    "                break\n",
    "        else:\n",
    "            print(i)\n",
    "else:\n",
    "    for i in range(startN, endN+1):\n",
    "        for j in range(2, i):\n",
    "            if i % j == 0:\n",
    "                break\n",
    "        else:\n",
    "            print(i)"
   ],
   "id": "68a351f5970b22c4",
   "outputs": [
    {
     "name": "stdout",
     "output_type": "stream",
     "text": [
      "2\n",
      "3\n",
      "5\n",
      "7\n",
      "11\n",
      "13\n",
      "17\n",
      "19\n",
      "23\n",
      "29\n",
      "31\n",
      "37\n",
      "41\n",
      "43\n",
      "47\n",
      "53\n",
      "59\n",
      "61\n",
      "67\n",
      "71\n",
      "73\n",
      "79\n",
      "83\n",
      "89\n",
      "97\n",
      "101\n",
      "103\n",
      "107\n",
      "109\n",
      "113\n",
      "127\n",
      "131\n",
      "137\n",
      "139\n",
      "149\n",
      "151\n",
      "157\n",
      "163\n",
      "167\n",
      "173\n",
      "179\n",
      "181\n"
     ]
    }
   ],
   "execution_count": 35
  },
  {
   "metadata": {
    "ExecuteTime": {
     "end_time": "2025-09-17T09:27:07.666519Z",
     "start_time": "2025-09-17T09:27:07.660278Z"
    }
   },
   "cell_type": "code",
   "source": [
    "#LIST ---\n",
    "emptyList = []\n",
    "lst = ['one','two','three','four'] #list of strings\n",
    "\n",
    "lst2 = [1, 2, 3, 4] #List of integers\n",
    "\n",
    "lst3 = [[1, 2], [3, 4]] # list of lists\n",
    "\n",
    "lst4 = [1, 'ramu', 24, 1.24] # List of different datatypes\n",
    "\n",
    "print(lst4)"
   ],
   "id": "a1f7eee410ffa584",
   "outputs": [
    {
     "name": "stdout",
     "output_type": "stream",
     "text": [
      "[1, 'ramu', 24, 1.24]\n"
     ]
    }
   ],
   "execution_count": 3
  },
  {
   "metadata": {
    "ExecuteTime": {
     "end_time": "2025-09-17T09:27:39.520075Z",
     "start_time": "2025-09-17T09:27:39.516860Z"
    }
   },
   "cell_type": "code",
   "source": [
    "lst = ['one', 'two', 'three', 'four']\n",
    "\n",
    "#find Length of a list\n",
    "print(len(lst))"
   ],
   "id": "46842c112da331de",
   "outputs": [
    {
     "name": "stdout",
     "output_type": "stream",
     "text": [
      "4\n"
     ]
    }
   ],
   "execution_count": 5
  },
  {
   "metadata": {
    "ExecuteTime": {
     "end_time": "2025-09-17T09:29:20.614897Z",
     "start_time": "2025-09-17T09:29:20.609462Z"
    }
   },
   "cell_type": "code",
   "source": [
    "#List Append\n",
    "\n",
    "lst = ['one', 'two', 'three', 'four']\n",
    "\n",
    "lst.append('five') # append will add the item at the end\n",
    "\n",
    "print(lst)"
   ],
   "id": "cb09ffeb48fa9b91",
   "outputs": [
    {
     "name": "stdout",
     "output_type": "stream",
     "text": [
      "['one', 'two', 'three', 'four', 'five']\n"
     ]
    }
   ],
   "execution_count": 6
  },
  {
   "metadata": {
    "ExecuteTime": {
     "end_time": "2025-09-17T09:30:28.838479Z",
     "start_time": "2025-09-17T09:30:28.833881Z"
    }
   },
   "cell_type": "code",
   "source": [
    "#syntax: Lst.insert(x, y)\n",
    "\n",
    "lst = ['one', 'two', 'four']\n",
    "\n",
    "lst.insert(2, \"three\") # will add element y at Location x\n",
    "\n",
    "print(lst)"
   ],
   "id": "d43b316ef31d5aab",
   "outputs": [
    {
     "name": "stdout",
     "output_type": "stream",
     "text": [
      "['one', 'two', 'three', 'four']\n"
     ]
    }
   ],
   "execution_count": 7
  },
  {
   "metadata": {
    "ExecuteTime": {
     "end_time": "2025-09-17T09:32:12.483494Z",
     "start_time": "2025-09-17T09:32:12.479489Z"
    }
   },
   "cell_type": "code",
   "source": [
    "#syntax: Lst.remove(x)\n",
    "\n",
    "lst = ['one', 'two', 'three', 'four', 'two']\n",
    "\n",
    "lst.remove('two') #it will remove first occurence of 'two' in a given list\n",
    "\n",
    "print(lst)"
   ],
   "id": "26298e01f5cc18e0",
   "outputs": [
    {
     "name": "stdout",
     "output_type": "stream",
     "text": [
      "['one', 'three', 'four', 'two']\n"
     ]
    }
   ],
   "execution_count": 8
  },
  {
   "metadata": {
    "ExecuteTime": {
     "end_time": "2025-09-17T09:33:01.655599Z",
     "start_time": "2025-09-17T09:33:01.651327Z"
    }
   },
   "cell_type": "code",
   "source": [
    "lst = ['one', 'two', 'three', 'four']\n",
    "\n",
    "lst2 = ['five', 'six']\n",
    "\n",
    "#append\n",
    "lst.append(lst2)\n",
    "\n",
    "print(lst)"
   ],
   "id": "494649c99df6f3ce",
   "outputs": [
    {
     "name": "stdout",
     "output_type": "stream",
     "text": [
      "['one', 'two', 'three', 'four', ['five', 'six']]\n"
     ]
    }
   ],
   "execution_count": 9
  },
  {
   "metadata": {
    "ExecuteTime": {
     "end_time": "2025-09-17T09:34:28.307489Z",
     "start_time": "2025-09-17T09:34:28.303181Z"
    }
   },
   "cell_type": "code",
   "source": [
    "lst = ['one', 'two', 'three', 'four']\n",
    "\n",
    "lst2 = ['five', 'six']\n",
    "\n",
    "#extend will join the list with list1\n",
    "\n",
    "lst.extend(lst2)\n",
    "\n",
    "print(lst)"
   ],
   "id": "2027957ed92299f4",
   "outputs": [
    {
     "name": "stdout",
     "output_type": "stream",
     "text": [
      "['one', 'two', 'three', 'four', 'five', 'six']\n"
     ]
    }
   ],
   "execution_count": 10
  },
  {
   "metadata": {
    "ExecuteTime": {
     "end_time": "2025-09-17T09:35:26.622992Z",
     "start_time": "2025-09-17T09:35:26.618309Z"
    }
   },
   "cell_type": "code",
   "source": [
    "lst = ['one', 'two', 'three', 'four', 'five']\n",
    "\n",
    "del lst[1]\n",
    "print(lst)\n",
    "\n",
    "#or we can use pop() method\n",
    "a = lst.pop(1)\n",
    "\n",
    "print(a)\n",
    "print(lst)"
   ],
   "id": "f39638469798aa30",
   "outputs": [
    {
     "name": "stdout",
     "output_type": "stream",
     "text": [
      "['one', 'three', 'four', 'five']\n",
      "three\n",
      "['one', 'four', 'five']\n"
     ]
    }
   ],
   "execution_count": 12
  },
  {
   "metadata": {
    "ExecuteTime": {
     "end_time": "2025-09-17T09:40:11.454959Z",
     "start_time": "2025-09-17T09:40:11.451585Z"
    }
   },
   "cell_type": "code",
   "source": [
    "lst = ['one', 'two', 'three', 'four']\n",
    "\n",
    "if 'two' in lst: print('AI')\n",
    "\n",
    "#keyword 'not' can combined with 'in'\n",
    "\n",
    "if 'six' not in lst:\n",
    "    print('ML')"
   ],
   "id": "f4c12c4ac1651eb",
   "outputs": [
    {
     "name": "stdout",
     "output_type": "stream",
     "text": [
      "AI\n",
      "ML\n"
     ]
    }
   ],
   "execution_count": 14
  },
  {
   "metadata": {
    "ExecuteTime": {
     "end_time": "2025-09-17T09:40:24.139132Z",
     "start_time": "2025-09-17T09:40:24.134978Z"
    }
   },
   "cell_type": "code",
   "source": [
    "#reverse is reverses the entire list\n",
    "\n",
    "lst = ['one', 'two', 'three', 'four']\n",
    "\n",
    "lst.reverse()\n",
    "\n",
    "print(lst)"
   ],
   "id": "6fa7ab2246047a64",
   "outputs": [
    {
     "name": "stdout",
     "output_type": "stream",
     "text": [
      "['four', 'three', 'two', 'one']\n"
     ]
    }
   ],
   "execution_count": 15
  },
  {
   "metadata": {
    "ExecuteTime": {
     "end_time": "2025-09-17T09:44:23.726538Z",
     "start_time": "2025-09-17T09:44:23.721876Z"
    }
   },
   "cell_type": "code",
   "source": [
    "#Create a list with numbers\n",
    "numbers = [3,1,6,2,8]\n",
    "\n",
    "sorted_lst = sorted(numbers)\n",
    "\n",
    "print(\"Sorted list :\", sorted_lst)\n",
    "\n",
    "#original list remain unchanged\n",
    "print(\"Original list: \", numbers)"
   ],
   "id": "157ada942dfc7ee6",
   "outputs": [
    {
     "name": "stdout",
     "output_type": "stream",
     "text": [
      "Sorted list : [1, 2, 3, 6, 8]\n",
      "Original list:  [3, 1, 6, 2, 8]\n"
     ]
    }
   ],
   "execution_count": 17
  },
  {
   "metadata": {
    "ExecuteTime": {
     "end_time": "2025-09-17T09:45:19.062403Z",
     "start_time": "2025-09-17T09:45:19.056661Z"
    }
   },
   "cell_type": "code",
   "source": [
    "#print a list in reverse sorted order\n",
    "print(\"Reverse sorted list :\", sorted(numbers, reverse=True))\n",
    "\n",
    "#orginal List remain unchanged\n",
    "print(\"Original list :\", numbers)"
   ],
   "id": "253963ba408b83d1",
   "outputs": [
    {
     "name": "stdout",
     "output_type": "stream",
     "text": [
      "Reverse sorted list : [8, 6, 3, 2, 1]\n",
      "Original list : [3, 1, 6, 2, 8]\n"
     ]
    }
   ],
   "execution_count": 18
  },
  {
   "metadata": {
    "ExecuteTime": {
     "end_time": "2025-10-30T05:20:52.749690Z",
     "start_time": "2025-10-30T05:20:52.584805Z"
    }
   },
   "cell_type": "code",
   "source": [
    "lst = [1, 20, 'b', 5, 'a']\n",
    "print(lst.sort()) # sort List with element of different datatypes"
   ],
   "id": "8d116d16e791c133",
   "outputs": [
    {
     "ename": "TypeError",
     "evalue": "'<' not supported between instances of 'str' and 'int'",
     "output_type": "error",
     "traceback": [
      "\u001B[31m---------------------------------------------------------------------------\u001B[39m",
      "\u001B[31mTypeError\u001B[39m                                 Traceback (most recent call last)",
      "\u001B[36mCell\u001B[39m\u001B[36m \u001B[39m\u001B[32mIn[3]\u001B[39m\u001B[32m, line 2\u001B[39m\n\u001B[32m      1\u001B[39m lst = [\u001B[32m1\u001B[39m, \u001B[32m20\u001B[39m, \u001B[33m'\u001B[39m\u001B[33mb\u001B[39m\u001B[33m'\u001B[39m, \u001B[32m5\u001B[39m, \u001B[33m'\u001B[39m\u001B[33ma\u001B[39m\u001B[33m'\u001B[39m]\n\u001B[32m----> \u001B[39m\u001B[32m2\u001B[39m \u001B[38;5;28mprint\u001B[39m(\u001B[43mlst\u001B[49m\u001B[43m.\u001B[49m\u001B[43msort\u001B[49m\u001B[43m(\u001B[49m\u001B[43m)\u001B[49m) \u001B[38;5;66;03m# sort List with element of different datatypes\u001B[39;00m\n",
      "\u001B[31mTypeError\u001B[39m: '<' not supported between instances of 'str' and 'int'"
     ]
    }
   ],
   "execution_count": 3
  },
  {
   "metadata": {
    "ExecuteTime": {
     "end_time": "2025-09-17T09:47:54.832159Z",
     "start_time": "2025-09-17T09:47:54.828207Z"
    }
   },
   "cell_type": "code",
   "source": [
    "numbers = [1, 2, 3, 1, 3, 4, 2, 51]\n",
    "\n",
    "#frequency of 1 in a list\n",
    "print(numbers.count(1))\n",
    "\n",
    "#frequency of 3 in a List\n",
    "print(numbers.count(3))"
   ],
   "id": "509c4f36486b3091",
   "outputs": [
    {
     "name": "stdout",
     "output_type": "stream",
     "text": [
      "2\n",
      "2\n"
     ]
    }
   ],
   "execution_count": 25
  },
  {
   "metadata": {
    "ExecuteTime": {
     "end_time": "2025-09-17T09:50:31.486124Z",
     "start_time": "2025-09-17T09:50:31.477782Z"
    }
   },
   "cell_type": "code",
   "source": [
    "#Separate even and odd numbers into two lists.\n",
    "\n",
    "numbers = [1, 2, 3, 4, 5, 6, 7, 8, 9, 10]\n",
    "even_numbers = []\n",
    "odd_numbers = []\n",
    "for number in numbers:\n",
    "    if number % 2 == 0:\n",
    "        even_numbers.append(number)\n",
    "    else:\n",
    "        odd_numbers.append(number)\n",
    "print(\"Even numbers:\", even_numbers)\n",
    "print(\"Odd numbers:\", odd_numbers)"
   ],
   "id": "909a5866f46ac032",
   "outputs": [
    {
     "name": "stdout",
     "output_type": "stream",
     "text": [
      "Even numbers: [2, 4, 6, 8, 10]\n",
      "Odd numbers: [1, 3, 5, 7, 9]\n"
     ]
    }
   ],
   "execution_count": 28
  },
  {
   "metadata": {
    "ExecuteTime": {
     "end_time": "2025-09-17T09:50:53.817520Z",
     "start_time": "2025-09-17T09:50:53.810512Z"
    }
   },
   "cell_type": "code",
   "source": [
    "#Count how many times each element appears.\n",
    "\n",
    "elements = ['apple', 'banana', 'apple', 'orange', 'banana', 'apple']\n",
    "element_counts = {}\n",
    "for element in elements:\n",
    "    if element in element_counts:\n",
    "        element_counts[element] += 1\n",
    "    else:\n",
    "        element_counts[element] = 1\n",
    "print(element_counts)"
   ],
   "id": "3e1159e352e4ee63",
   "outputs": [
    {
     "name": "stdout",
     "output_type": "stream",
     "text": [
      "{'apple': 3, 'banana': 2, 'orange': 1}\n"
     ]
    }
   ],
   "execution_count": 29
  },
  {
   "metadata": {
    "ExecuteTime": {
     "end_time": "2025-09-17T09:51:36.532304Z",
     "start_time": "2025-09-17T09:51:36.526557Z"
    }
   },
   "cell_type": "code",
   "source": [
    "#Reverse a list without using the reverse() method.\n",
    "\n",
    "original_list = [1, 2, 3, 4, 5]\n",
    "reversed_list = []\n",
    "for i in range(len(original_list) - 1, -1, -1):\n",
    "    reversed_list.append(original_list[i])\n",
    "print(reversed_list)"
   ],
   "id": "44a870c4f1151c74",
   "outputs": [
    {
     "name": "stdout",
     "output_type": "stream",
     "text": [
      "[5, 4, 3, 2, 1]\n"
     ]
    }
   ],
   "execution_count": 30
  },
  {
   "metadata": {
    "ExecuteTime": {
     "end_time": "2025-09-25T03:56:11.665405Z",
     "start_time": "2025-09-25T03:56:08.548841Z"
    }
   },
   "cell_type": "code",
   "source": [
    "#Practical 5:Write a Python program to check whether a given number is a palindrome or not.\n",
    "\n",
    "number = int(input(\"Please enter the number: \"))\n",
    "numlist = list(str(number))\n",
    "\n",
    "if numlist == numlist[::-1]:\n",
    "    print(\"The number is Palindrome.\")\n",
    "else:\n",
    "    print(\"The number is not Palindrome.\")"
   ],
   "id": "ec5947ec856f6da6",
   "outputs": [
    {
     "name": "stdout",
     "output_type": "stream",
     "text": [
      "The number is palindrome.\n"
     ]
    }
   ],
   "execution_count": 52
  },
  {
   "metadata": {
    "ExecuteTime": {
     "end_time": "2025-09-24T17:14:58.391567Z",
     "start_time": "2025-09-24T17:14:58.387330Z"
    }
   },
   "cell_type": "code",
   "source": [
    " #-> List is one of the Sequence Data structure\n",
    "\n",
    "#-> Lists are collection of items (Strings, integers or even other lists)\n",
    "\n",
    "#-> Lists are enclosed in [ ].\n",
    "\n",
    "#-> Each item in the list has an assigned index value\n",
    "\n",
    "#-> Each item in a list is separated by a comma\n",
    "\n",
    "#-> Lists are mutable, which means they can be changed."
   ],
   "id": "4a8a585b3e6de85f",
   "outputs": [],
   "execution_count": 48
  },
  {
   "metadata": {
    "ExecuteTime": {
     "end_time": "2025-09-23T17:08:32.807110Z",
     "start_time": "2025-09-23T17:08:32.796780Z"
    }
   },
   "cell_type": "code",
   "source": [
    "#Take two shopping lists from two family members and merge them into one.\n",
    "\n"
   ],
   "id": "74e6db6c885ee82a",
   "outputs": [],
   "execution_count": 42
  },
  {
   "metadata": {
    "ExecuteTime": {
     "end_time": "2025-09-23T17:08:53.580653Z",
     "start_time": "2025-09-23T17:08:53.578549Z"
    }
   },
   "cell_type": "code",
   "source": [
    "#Take a list of integers from user and split into positives, negatives, and zeros.\n",
    "\n"
   ],
   "id": "8886dcba64b7a992",
   "outputs": [],
   "execution_count": 43
  },
  {
   "metadata": {
    "ExecuteTime": {
     "end_time": "2025-09-23T17:09:24.868453Z",
     "start_time": "2025-09-23T17:09:24.866045Z"
    }
   },
   "cell_type": "code",
   "source": [
    "#Take input of contact names, allow user to add, delete, and display contacts using list operations.\n",
    "\n"
   ],
   "id": "8ca6b672a548431b",
   "outputs": [],
   "execution_count": 44
  },
  {
   "metadata": {
    "ExecuteTime": {
     "end_time": "2025-09-25T05:06:12.817740Z",
     "start_time": "2025-09-25T05:06:07.297975Z"
    }
   },
   "cell_type": "code",
   "source": [
    "#Practical 6 : Write a simple python program to construct pascal's triangle for given number of rows (for loop only).\n",
    "rows = int(input(\"Enter number of rows: \"))\n",
    "for i in range(rows):\n",
    "    for j in range(rows - i - 1):\n",
    "        print(\" \", end=\"\")\n",
    "    num = 1\n",
    "    for k in range(i + 1):\n",
    "        print(num, end=\" \")\n",
    "        num = num * (i - k) // (k + 1)\n",
    "    print()"
   ],
   "id": "7796818bd26668b9",
   "outputs": [
    {
     "name": "stdout",
     "output_type": "stream",
     "text": [
      "    1 \n",
      "   1 1 \n",
      "  1 2 1 \n",
      " 1 3 3 1 \n",
      "1 4 6 4 1 \n"
     ]
    }
   ],
   "execution_count": 63
  },
  {
   "metadata": {
    "ExecuteTime": {
     "end_time": "2025-10-07T06:44:35.168144Z",
     "start_time": "2025-10-07T06:44:35.164948Z"
    }
   },
   "cell_type": "code",
   "source": [
    "#Tuple ---\n",
    "t = (1,(2,3),[1,2,3])\n",
    "t[2][1] = 'x'"
   ],
   "id": "479f7205d638928d",
   "outputs": [],
   "execution_count": 1
  },
  {
   "metadata": {
    "ExecuteTime": {
     "end_time": "2025-10-07T06:52:23.084984Z",
     "start_time": "2025-10-07T06:52:23.081061Z"
    }
   },
   "cell_type": "code",
   "source": [
    "#apply sort and sorted function on the list\n",
    "t=(21,22,23,24,25)\n",
    "print(sorted(t))\n",
    "print(t)\n",
    "#t.sort() #AttributeError: 'tuple' object has no attribute 'sort'\n",
    "#Tuples are immutable, so they do not have a sort() method. However, you can use the sorted() function to return a new sorted list from the elements of the tuple."
   ],
   "id": "7a6f510e6eb8029e",
   "outputs": [
    {
     "name": "stdout",
     "output_type": "stream",
     "text": [
      "[21, 22, 23, 24, 25]\n",
      "(21, 22, 23, 24, 25)\n"
     ]
    }
   ],
   "execution_count": 6
  },
  {
   "metadata": {
    "ExecuteTime": {
     "end_time": "2025-10-08T09:24:46.598569Z",
     "start_time": "2025-10-08T09:24:46.592912Z"
    }
   },
   "cell_type": "code",
   "source": [
    "#Set ---\n",
    "\n",
    "s={1,2,3,4}\n",
    "s.add(24)\n",
    "print(s)\n",
    "s.remove(2)\n",
    "print(s)\n",
    "s.discard(3)\n",
    "print(s)\n",
    "s.pop()\n",
    "print(s)\n",
    "s.clear()\n",
    "print(s)"
   ],
   "id": "dcee59161c49234a",
   "outputs": [
    {
     "name": "stdout",
     "output_type": "stream",
     "text": [
      "{1, 2, 3, 4, 24}\n",
      "{1, 3, 4, 24}\n",
      "{1, 4, 24}\n",
      "{4, 24}\n",
      "set()\n"
     ]
    }
   ],
   "execution_count": 1
  },
  {
   "metadata": {
    "ExecuteTime": {
     "end_time": "2025-10-08T09:31:05.281679Z",
     "start_time": "2025-10-08T09:31:05.276577Z"
    }
   },
   "cell_type": "code",
   "source": [
    "#Dictionary ---\n",
    "my_dict = {'name': 'John', 'age': 25}\n",
    "print(my_dict['name'])\n",
    "print(my_dict['age'])"
   ],
   "id": "6e9ed333c54b909d",
   "outputs": [
    {
     "name": "stdout",
     "output_type": "stream",
     "text": [
      "John\n",
      "25\n"
     ]
    }
   ],
   "execution_count": 4
  },
  {
   "metadata": {
    "ExecuteTime": {
     "end_time": "2025-10-08T09:34:54.236892Z",
     "start_time": "2025-10-08T09:34:54.231792Z"
    }
   },
   "cell_type": "code",
   "source": [
    "my_dict = {'name': 'John', 'age': 25,'city': 'New York'}\n",
    "my_dict['name']='Krish'\n",
    "my_dict['city']='ohio'\n",
    "print(my_dict)"
   ],
   "id": "f0a011e27b4dd5d7",
   "outputs": [
    {
     "name": "stdout",
     "output_type": "stream",
     "text": [
      "{'name': 'Krish', 'age': 25, 'city': 'ohio'}\n"
     ]
    }
   ],
   "execution_count": 6
  },
  {
   "metadata": {
    "ExecuteTime": {
     "end_time": "2025-10-08T09:38:11.138766Z",
     "start_time": "2025-10-08T09:38:11.134021Z"
    }
   },
   "cell_type": "code",
   "source": [
    "my_dict = {'name': 'John', 'age': 25,'city': 'New York'}\n",
    "print(my_dict.pop('age'))\n",
    "my_dict.popitem"
   ],
   "id": "421fa48954534a88",
   "outputs": [
    {
     "name": "stdout",
     "output_type": "stream",
     "text": [
      "25\n"
     ]
    },
    {
     "data": {
      "text/plain": [
       "<function dict.popitem()>"
      ]
     },
     "execution_count": 13,
     "metadata": {},
     "output_type": "execute_result"
    }
   ],
   "execution_count": 13
  },
  {
   "metadata": {
    "ExecuteTime": {
     "end_time": "2025-10-08T09:39:42.895714Z",
     "start_time": "2025-10-08T09:39:42.891930Z"
    }
   },
   "cell_type": "code",
   "source": [
    "my_dict = {'name': 'John', 'age': 25,'city': 'New York'}\n",
    "my_dict.clear()\n",
    "print(my_dict)"
   ],
   "id": "f83860880d1eddb",
   "outputs": [
    {
     "name": "stdout",
     "output_type": "stream",
     "text": [
      "{}\n"
     ]
    }
   ],
   "execution_count": 17
  },
  {
   "metadata": {
    "ExecuteTime": {
     "end_time": "2025-10-29T13:57:34.735023Z",
     "start_time": "2025-10-29T13:57:34.731943Z"
    }
   },
   "cell_type": "code",
   "source": [
    "my_dict = {'name': 'John', 'age': 25, 'city': 'New York'}\n",
    "del my_dict['age']\n",
    "print(my_dict)"
   ],
   "id": "2063f48e723b24f1",
   "outputs": [
    {
     "name": "stdout",
     "output_type": "stream",
     "text": [
      "{'name': 'John', 'city': 'New York'}\n"
     ]
    }
   ],
   "execution_count": 1
  },
  {
   "metadata": {
    "ExecuteTime": {
     "end_time": "2025-10-08T09:46:29.986618Z",
     "start_time": "2025-10-08T09:46:29.982590Z"
    }
   },
   "cell_type": "code",
   "source": [
    "my_dict = {2:4,3:9,4:16,5:25}\n",
    "dict2 = my_dict.copy()\n",
    "print(dict2)\n",
    "\n",
    "dict3 = print(dict2.items())\n",
    "print(dict2.keys())"
   ],
   "id": "918d575eca961392",
   "outputs": [
    {
     "name": "stdout",
     "output_type": "stream",
     "text": [
      "{2: 4, 3: 9, 4: 16, 5: 25}\n",
      "dict_items([(2, 4), (3, 9), (4, 16), (5, 25)])\n",
      "dict_keys([2, 3, 4, 5])\n"
     ]
    }
   ],
   "execution_count": 22
  },
  {
   "metadata": {
    "ExecuteTime": {
     "end_time": "2025-10-08T09:55:40.110592Z",
     "start_time": "2025-10-08T09:55:40.106389Z"
    }
   },
   "cell_type": "code",
   "source": "#String ---\n",
   "id": "a21cc2810cc8b488",
   "outputs": [],
   "execution_count": 23
  },
  {
   "metadata": {
    "ExecuteTime": {
     "end_time": "2025-10-16T04:42:20.108745Z",
     "start_time": "2025-10-16T04:41:37.913451Z"
    }
   },
   "cell_type": "code",
   "source": [
    "#Practical 7: a. Given a string , create a dictionary where the keys are the words and the values are the length of those words.\n",
    "\n",
    "str = input(\"Enter a string:\")\n",
    "dict = {}\n",
    "for word in str.split():\n",
    "    dict[word] = len(word)\n",
    "print(dict)"
   ],
   "id": "23ac944b3541e84f",
   "outputs": [
    {
     "name": "stdout",
     "output_type": "stream",
     "text": [
      "{'pyhtonisacodinglanguage': 23}\n"
     ]
    }
   ],
   "execution_count": 2
  },
  {
   "metadata": {
    "ExecuteTime": {
     "end_time": "2025-10-30T04:43:59.160642Z",
     "start_time": "2025-10-30T04:43:39.393585Z"
    }
   },
   "cell_type": "code",
   "source": [
    "#b. Given a list of Integers , find all pairs whose sum is equal to a given target.\n",
    "\n",
    "nums = list(map(int,input(\"Enter the numbers separated by space: \").split()))\n",
    "target = int(input(\"Enter the target number: \"))\n",
    "\n",
    "pairs = set()\n",
    "\n",
    "for i in range(len(nums)):\n",
    "    for j in range (i+1, len(nums)):\n",
    "        if nums[i] + nums[j] == target:\n",
    "            pairs.add((nums[i], nums[j]))\n",
    "print(f\"Pairs with target number {target} are: \")\n",
    "for p in pairs:\n",
    "    print(p)"
   ],
   "id": "dec2bbb9019f59ea",
   "outputs": [
    {
     "name": "stdout",
     "output_type": "stream",
     "text": [
      "Pairs with target number 7 are: \n",
      "(1, 6)\n",
      "(2, 5)\n",
      "(3, 4)\n"
     ]
    }
   ],
   "execution_count": 2
  },
  {
   "metadata": {
    "ExecuteTime": {
     "end_time": "2025-10-30T13:21:59.676815Z",
     "start_time": "2025-10-30T13:21:51.876153Z"
    }
   },
   "cell_type": "code",
   "source": [
    "#c. Rotate elements in a tuple by 'n' positions to the left and right.\n",
    "\n",
    "tup = tuple(map(int,input(\"Enter tuple element seprated by space: \").split()))\n",
    "n = int(input(\"Enter number of positions to rotate: \"))\n",
    "left_rotated = tup[n:] + tup[:n]\n",
    "right_rotated = tup[-n:] + tup[:-n]\n",
    "print(\"Original tuple:\", tup)\n",
    "print(\"left_rotated:\", left_rotated)\n",
    "print(\"right_rotated:\", right_rotated)"
   ],
   "id": "cfb397982cdd6979",
   "outputs": [
    {
     "name": "stdout",
     "output_type": "stream",
     "text": [
      "Original tuple: (1, 2, 3, 4, 5)\n",
      "left_rotated: (3, 4, 5, 1, 2)\n",
      "right_rotated: (4, 5, 1, 2, 3)\n"
     ]
    }
   ],
   "execution_count": 6
  },
  {
   "metadata": {
    "ExecuteTime": {
     "end_time": "2025-10-14T06:59:06.521843Z",
     "start_time": "2025-10-14T06:58:58.368719Z"
    }
   },
   "cell_type": "code",
   "source": [
    "#Write a python program to print highest common factor (HCF) of two numbers.\n",
    "\n",
    "def hcf(a, b):\n",
    "    a = abs(int(a))\n",
    "    b = abs(int(b))\n",
    "\n",
    "    while b:\n",
    "        a, b = b, a % b\n",
    "    return a\n",
    "\n",
    "num1 = int(input(\"Enter first number: \"))\n",
    "num2 = int(input(\"Enter second number: \"))\n",
    "\n",
    "result = hcf(num1, num2)\n",
    "print(f\"The HCF of {num1} and {num2} is: {result}\")"
   ],
   "id": "560339dc8d4860b4",
   "outputs": [
    {
     "name": "stdout",
     "output_type": "stream",
     "text": [
      "The HCF of 8 and 16 is: 8\n"
     ]
    }
   ],
   "execution_count": 5
  },
  {
   "metadata": {
    "ExecuteTime": {
     "end_time": "2025-10-30T04:42:24.800523Z",
     "start_time": "2025-10-30T04:41:10.688994Z"
    }
   },
   "cell_type": "code",
   "source": [
    "#Practical 8 : Write a python program that generates power set of a given list of Integers recursively\n",
    "#a. Keep only the groups where adding all numbers gives an even number\n",
    "#b. Arrange the groups so that the smallest groups comes last.\n",
    "\n",
    "numList = []\n",
    "while True:\n",
    "    num = input(\"Please enter a number or leave blank to proceed: \")\n",
    "    if not num:\n",
    "        break\n",
    "    numList.append(int(num))\n",
    "print(f\"List of numbers: {numList}\")\n",
    "\n",
    "def powerSet(numList):\n",
    "    if not numList:\n",
    "        return [[]]\n",
    "    first = numList[0]\n",
    "    rest = numList[1:]\n",
    "    powerSet1 = powerSet(rest)\n",
    "    subSets = [[first] + subset for subset in powerSet1]\n",
    "    return powerSet1 + subSets\n",
    "\n",
    "def evenSet(power_set):\n",
    "    return [subset for subset in power_set if sum(subset) % 2 == 0]\n",
    "\n",
    "def arrangeSet(list_of_lists):\n",
    "    return sorted(list_of_lists, key=len, reverse=True)\n",
    "\n",
    "def finalSet(inputList):\n",
    "    power = powerSet(inputList)\n",
    "    even = evenSet(power)\n",
    "    arranged = arrangeSet(even)\n",
    "    return arranged\n",
    "\n",
    "result = finalSet(numList)\n",
    "print(\"\\nFinal Result:\")\n",
    "for group in result:\n",
    "    print(f\"{group}\",end=\"\\t\")"
   ],
   "id": "9d3f15e369484a2d",
   "outputs": [
    {
     "name": "stdout",
     "output_type": "stream",
     "text": [
      "List of numbers: [1, 2, 3]\n",
      "\n",
      "Final Result:\n",
      "[1, 2, 3]\t[1, 3]\t[2]\t[]\t"
     ]
    }
   ],
   "execution_count": 1
  },
  {
   "metadata": {
    "ExecuteTime": {
     "end_time": "2025-10-30T03:57:52.620783Z",
     "start_time": "2025-10-30T03:57:52.617783Z"
    }
   },
   "cell_type": "code",
   "source": "",
   "id": "dd17edcd2f1e0978",
   "outputs": [],
   "execution_count": null
  }
 ],
 "metadata": {
  "kernelspec": {
   "display_name": "Python 3",
   "language": "python",
   "name": "python3"
  },
  "language_info": {
   "codemirror_mode": {
    "name": "ipython",
    "version": 2
   },
   "file_extension": ".py",
   "mimetype": "text/x-python",
   "name": "python",
   "nbconvert_exporter": "python",
   "pygments_lexer": "ipython2",
   "version": "2.7.6"
  }
 },
 "nbformat": 4,
 "nbformat_minor": 5
}
